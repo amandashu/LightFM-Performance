{
 "cells": [
  {
   "cell_type": "code",
   "execution_count": null,
   "metadata": {},
   "outputs": [],
   "source": [
    "import pandas as pd"
   ]
  },
  {
   "cell_type": "markdown",
   "metadata": {},
   "source": [
    "## Introduction\n",
    "\n",
    "In “Are We Really Making Much Progress”, the authors, Maurizio Dacrema et al, replicate several algorithmic proposals for top-n recommendation tasks that were presented at top research conferences. Their results highlight a few problems in this field of research, such the lack of reproducibility of papers as well as the inability for these algorithms to beat out simple, but finely tuned baselines. \n",
    "\n",
    "In our study, we follow the similiar research methodology by Dacrema in looking into a specific Python implementation of recommender system algorithms and comparing it to baseline algorithms. Specifically, in this report, we compare the results of the LightFM model to tuned baselines, as seen below."
   ]
  },
  {
   "cell_type": "code",
   "execution_count": null,
   "metadata": {},
   "outputs": [],
   "source": [
    "pd.read_csv('../results/Metrics.csv').set_index('Recommender')"
   ]
  },
  {
   "cell_type": "markdown",
   "metadata": {},
   "source": [
    "Here how the algorithms compare by cutoff levels for both precision and recall.\n",
    "\n",
    "![precision](../results/precision.png)\n",
    "\n",
    "![recall](../results/recall.png)"
   ]
  }
 ],
 "metadata": {
  "kernelspec": {
   "display_name": "Python 3",
   "language": "python",
   "name": "python3"
  },
  "language_info": {
   "codemirror_mode": {
    "name": "ipython",
    "version": 3
   },
   "file_extension": ".py",
   "mimetype": "text/x-python",
   "name": "python",
   "nbconvert_exporter": "python",
   "pygments_lexer": "ipython3",
   "version": "3.7.4"
  }
 },
 "nbformat": 4,
 "nbformat_minor": 2
}
