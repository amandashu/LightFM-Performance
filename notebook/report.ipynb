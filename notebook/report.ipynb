{
 "cells": [
  {
   "cell_type": "code",
   "execution_count": 2,
   "metadata": {},
   "outputs": [],
   "source": [
    "import pandas as pd"
   ]
  },
  {
   "cell_type": "markdown",
   "metadata": {},
   "source": [
    "## Introduction\n",
    "\n",
    "In “Are We Really Making Much Progress”, the authors, Maurizio Dacrema et al, replicate several algorithmic proposals for top-n recommendation tasks that were presented at top research conferences. Their results highlight a few problems in this field of research, such the lack of reproducibility of papers as well as the inability for these algorithms to beat out simple, but finely tuned baselines. \n",
    "\n",
    "In our study, we follow the similiar research methodology by Dacrema in looking into a specific Python implementation of recommender system algorithms and comparing it to baseline algorithms. Specifically, in this report, we compare the results of the LightFM model to tuned baselines, as seen below."
   ]
  },
  {
   "cell_type": "code",
   "execution_count": 4,
   "metadata": {},
   "outputs": [
    {
     "data": {
      "text/html": [
       "<div>\n",
       "<style scoped>\n",
       "    .dataframe tbody tr th:only-of-type {\n",
       "        vertical-align: middle;\n",
       "    }\n",
       "\n",
       "    .dataframe tbody tr th {\n",
       "        vertical-align: top;\n",
       "    }\n",
       "\n",
       "    .dataframe thead th {\n",
       "        text-align: right;\n",
       "    }\n",
       "</style>\n",
       "<table border=\"1\" class=\"dataframe\">\n",
       "  <thead>\n",
       "    <tr style=\"text-align: right;\">\n",
       "      <th></th>\n",
       "      <th>PRECISION@5</th>\n",
       "      <th>PRECISION@10</th>\n",
       "      <th>PRECISION@20</th>\n",
       "      <th>RECALL@5</th>\n",
       "      <th>RECALL@10</th>\n",
       "      <th>RECALL@20</th>\n",
       "    </tr>\n",
       "    <tr>\n",
       "      <th>Recommender</th>\n",
       "      <th></th>\n",
       "      <th></th>\n",
       "      <th></th>\n",
       "      <th></th>\n",
       "      <th></th>\n",
       "      <th></th>\n",
       "    </tr>\n",
       "  </thead>\n",
       "  <tbody>\n",
       "    <tr>\n",
       "      <th>TopPop</th>\n",
       "      <td>0.040951</td>\n",
       "      <td>0.031176</td>\n",
       "      <td>0.025694</td>\n",
       "      <td>0.078145</td>\n",
       "      <td>0.120091</td>\n",
       "      <td>0.198572</td>\n",
       "    </tr>\n",
       "    <tr>\n",
       "      <th>P3alpha</th>\n",
       "      <td>0.054954</td>\n",
       "      <td>0.043857</td>\n",
       "      <td>0.032629</td>\n",
       "      <td>0.104362</td>\n",
       "      <td>0.152268</td>\n",
       "      <td>0.235562</td>\n",
       "    </tr>\n",
       "    <tr>\n",
       "      <th>LightFM</th>\n",
       "      <td>0.048349</td>\n",
       "      <td>0.043725</td>\n",
       "      <td>0.037583</td>\n",
       "      <td>0.092556</td>\n",
       "      <td>0.173380</td>\n",
       "      <td>0.280893</td>\n",
       "    </tr>\n",
       "    <tr>\n",
       "      <th>RP3beta</th>\n",
       "      <td>0.045178</td>\n",
       "      <td>0.038573</td>\n",
       "      <td>0.028005</td>\n",
       "      <td>0.099221</td>\n",
       "      <td>0.160731</td>\n",
       "      <td>0.253557</td>\n",
       "    </tr>\n",
       "  </tbody>\n",
       "</table>\n",
       "</div>"
      ],
      "text/plain": [
       "             PRECISION@5  PRECISION@10  PRECISION@20  RECALL@5  RECALL@10  \\\n",
       "Recommender                                                                 \n",
       "TopPop          0.040951      0.031176      0.025694  0.078145   0.120091   \n",
       "P3alpha         0.054954      0.043857      0.032629  0.104362   0.152268   \n",
       "LightFM         0.048349      0.043725      0.037583  0.092556   0.173380   \n",
       "RP3beta         0.045178      0.038573      0.028005  0.099221   0.160731   \n",
       "\n",
       "             RECALL@20  \n",
       "Recommender             \n",
       "TopPop        0.198572  \n",
       "P3alpha       0.235562  \n",
       "LightFM       0.280893  \n",
       "RP3beta       0.253557  "
      ]
     },
     "execution_count": 4,
     "metadata": {},
     "output_type": "execute_result"
    }
   ],
   "source": [
    "pd.read_csv('../calculatedMetrics/Metrics.csv').set_index('Recommender')"
   ]
  },
  {
   "cell_type": "markdown",
   "metadata": {},
   "source": [
    "Here how the algorithms compare by cutoff levels for both precision and recall.\n",
    "\n",
    "![precision](../results/precision.png)\n",
    "\n",
    "![recall](../results/recall.png)"
   ]
  }
 ],
 "metadata": {
  "kernelspec": {
   "display_name": "venv",
   "language": "python",
   "name": "venv"
  },
  "language_info": {
   "codemirror_mode": {
    "name": "ipython",
    "version": 3
   },
   "file_extension": ".py",
   "mimetype": "text/x-python",
   "name": "python",
   "nbconvert_exporter": "python",
   "pygments_lexer": "ipython3",
   "version": "3.7.4"
  }
 },
 "nbformat": 4,
 "nbformat_minor": 2
}
